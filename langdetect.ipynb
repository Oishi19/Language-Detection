{
 "cells": [
  {
   "cell_type": "code",
   "execution_count": 1,
   "source": [
    "import pandas as pd\r\n",
    "from googletrans import Translator\r\n",
    "from pprint import pprint"
   ],
   "outputs": [],
   "metadata": {}
  },
  {
   "cell_type": "code",
   "execution_count": 2,
   "source": [
    "data = pd.read_csv(\"C:/Users/Oishi/Downloads/hindi.csv\")\r\n",
    "print(data)"
   ],
   "outputs": [
    {
     "output_type": "stream",
     "name": "stdout",
     "text": [
      "   Vegetable Names\n",
      "0            गाजर \n",
      "1      शिमला मिर्च\n",
      "2          भिन्डी \n",
      "3           मक्का \n",
      "4        लाल मिर्च\n",
      "5            खीरा \n",
      "6        कढ़ी पत्ता\n",
      "7            बैगन \n",
      "8           लहसुन \n",
      "9            अदरक \n",
      "10            बैगन\n",
      "11        फूल गोभी\n",
      "12           धनिया\n",
      "13            कटहल\n",
      "14          कुम्भी\n",
      "15           प्याज\n",
      "16             मटर\n"
     ]
    }
   ],
   "metadata": {}
  },
  {
   "cell_type": "code",
   "execution_count": 3,
   "source": [
    "translator = Translator()\r\n",
    "translations = {}\r\n",
    "for column in data.columns:\r\n",
    "    unique = data[column].unique()\r\n",
    "    for element in unique:\r\n",
    "        translations[element] = translator.translate(element).text\r\n",
    "for i in translations.items():\r\n",
    "    print(i)"
   ],
   "outputs": [
    {
     "output_type": "stream",
     "name": "stdout",
     "text": [
      "('गाजर ', 'Carrot')\n",
      "('शिमला मिर्च', 'Capsicum')\n",
      "('भिन्डी ', 'Lady finger')\n",
      "('मक्का ', 'Maize')\n",
      "('लाल मिर्च', 'Red chilly')\n",
      "('खीरा ', 'Cucumber')\n",
      "('कढ़ी पत्ता', 'curry leaves')\n",
      "('बैगन ', 'brinjal')\n",
      "('लहसुन ', 'Garlic')\n",
      "('अदरक ', 'Garlic')\n",
      "('बैगन', 'brinjal')\n",
      "('फूल गोभी', 'Cauliflower')\n",
      "('धनिया', 'coriander')\n",
      "('कटहल', 'Jackfruit')\n",
      "('कुम्भी', 'Aquarius')\n",
      "('प्याज', 'Onion')\n",
      "('मटर', 'Pea')\n"
     ]
    }
   ],
   "metadata": {}
  },
  {
   "cell_type": "code",
   "execution_count": 4,
   "source": [
    "data.replace(translations, inplace=True)\r\n",
    "print(data)"
   ],
   "outputs": [
    {
     "output_type": "stream",
     "name": "stdout",
     "text": [
      "   Vegetable Names\n",
      "0           Carrot\n",
      "1         Capsicum\n",
      "2      Lady finger\n",
      "3            Maize\n",
      "4       Red chilly\n",
      "5         Cucumber\n",
      "6     curry leaves\n",
      "7          brinjal\n",
      "8           Garlic\n",
      "9           Garlic\n",
      "10         brinjal\n",
      "11     Cauliflower\n",
      "12       coriander\n",
      "13       Jackfruit\n",
      "14        Aquarius\n",
      "15           Onion\n",
      "16             Pea\n"
     ]
    }
   ],
   "metadata": {}
  },
  {
   "cell_type": "code",
   "execution_count": 6,
   "source": [
    "sentence = []\r\n",
    "n = int(input(\"Enter the list size \"))\r\n",
    "\r\n",
    "for i in range(0, n):\r\n",
    "    print(\"Enter phrase\", i, )\r\n",
    "    item = input()\r\n",
    "    sentence.append(item)\r\n",
    "print(\"User list is \", sentence)"
   ],
   "outputs": [
    {
     "output_type": "stream",
     "name": "stdout",
     "text": [
      "Enter phrase 0\n",
      "Enter phrase 1\n",
      "Enter phrase 2\n",
      "Enter phrase 3\n",
      "User list is  ['godnat', 'gracias', 'Excelente', 'très cher']\n"
     ]
    }
   ],
   "metadata": {}
  },
  {
   "cell_type": "code",
   "execution_count": 7,
   "source": [
    "translations = translator.translate(sentence, dest=input())\r\n",
    "for translation in translations:\r\n",
    "    print(f\"{translation.origin} ({translation.src}) --> {translation.text} ({translation.dest})\")\r\n",
    "    print(\"Confidence:\", translator.detect(translation).confidence)"
   ],
   "outputs": [
    {
     "output_type": "stream",
     "name": "stdout",
     "text": [
      "godnat (da) --> শুভ রাত্রি (bn)\n",
      "Confidence: [0.42130098, 0.34294474]\n",
      "gracias (es) --> ধন্যবাদ (bn)\n",
      "Confidence: 0.843912\n",
      "Excelente (es) --> অসাধারণ (bn)\n",
      "Confidence: 0.63604516\n",
      "très cher (fr) --> খুবই মূল্যবান (bn)\n",
      "Confidence: 0.8200378\n"
     ]
    }
   ],
   "metadata": {}
  },
  {
   "cell_type": "code",
   "execution_count": 13,
   "source": [
    "# detect a language\r\n",
    "detection = translator.detect(\"नमस्ते दुनिया\")\r\n",
    "print(\"Language code:\", detection.lang)\r\n",
    "print(\"Confidence:\", detection.confidence)"
   ],
   "outputs": [
    {
     "output_type": "stream",
     "name": "stdout",
     "text": [
      "Language code: hi\n",
      "Confidence: 1\n"
     ]
    }
   ],
   "metadata": {}
  }
 ],
 "metadata": {
  "orig_nbformat": 4,
  "language_info": {
   "name": "python",
   "version": "3.7.9",
   "mimetype": "text/x-python",
   "codemirror_mode": {
    "name": "ipython",
    "version": 3
   },
   "pygments_lexer": "ipython3",
   "nbconvert_exporter": "python",
   "file_extension": ".py"
  },
  "kernelspec": {
   "name": "python3",
   "display_name": "Python 3.7.9 64-bit"
  },
  "interpreter": {
   "hash": "9c82ffadc2752fb2552d462a34c8cafce5a5fe77de42df08d9fb4699ab65cab9"
  }
 },
 "nbformat": 4,
 "nbformat_minor": 2
}